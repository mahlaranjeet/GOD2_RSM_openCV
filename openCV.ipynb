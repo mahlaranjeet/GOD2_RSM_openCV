{
 "cells": [
  {
   "cell_type": "markdown",
   "id": "9af26736",
   "metadata": {},
   "source": [
    "# MORPHOLOGICAL OPERATIONS OPEN CV"
   ]
  },
  {
   "cell_type": "markdown",
   "id": "9eff4d31",
   "metadata": {},
   "source": [
    "GOD2: GIT OF DAY2\n",
    "BY RANJEET SINGH MAHLA\n",
    "JANUARY 02, 2023"
   ]
  },
  {
   "cell_type": "markdown",
   "id": "c172e74b",
   "metadata": {},
   "source": [
    "IMPORT REQUIRED LIBRARIES"
   ]
  },
  {
   "cell_type": "code",
   "execution_count": 1,
   "id": "ea56542e",
   "metadata": {},
   "outputs": [],
   "source": [
    "import cv2 \n",
    "import matplotlib.pyplot as plt"
   ]
  },
  {
   "cell_type": "markdown",
   "id": "9414b035",
   "metadata": {},
   "source": [
    "READ THE IMAGE"
   ]
  },
  {
   "cell_type": "code",
   "execution_count": 2,
   "id": "a1228f4c",
   "metadata": {},
   "outputs": [],
   "source": [
    "image = cv2.imread('/Users/rmahla_admin/Desktop/GOD2_RSM/input/photo.jpeg')"
   ]
  },
  {
   "cell_type": "markdown",
   "id": "2b96f80b",
   "metadata": {},
   "source": [
    "CONVERT IMAGE TO BINARY IMAGE"
   ]
  },
  {
   "cell_type": "code",
   "execution_count": 3,
   "id": "025fbb76",
   "metadata": {
    "scrolled": true
   },
   "outputs": [
    {
     "data": {
      "text/plain": [
       "array([[255, 254, 254, ..., 255, 255, 255],\n",
       "       [254, 255, 253, ..., 255, 255, 255],\n",
       "       [255, 255, 255, ..., 255, 255, 255],\n",
       "       ...,\n",
       "       [236, 234, 233, ..., 240, 242, 242],\n",
       "       [236, 233, 231, ..., 240, 242, 241],\n",
       "       [238, 235, 232, ..., 242, 243, 242]], dtype=uint8)"
      ]
     },
     "execution_count": 3,
     "metadata": {},
     "output_type": "execute_result"
    }
   ],
   "source": [
    "gray = cv2.cvtColor(image, cv2.COLOR_BGR2GRAY)\n",
    "gray"
   ]
  },
  {
   "cell_type": "markdown",
   "id": "3213f9a9",
   "metadata": {},
   "source": [
    "CREATE KERNELS "
   ]
  },
  {
   "cell_type": "code",
   "execution_count": 4,
   "id": "44eef145",
   "metadata": {},
   "outputs": [],
   "source": [
    "kernel1 = cv2.getStructuringElement(cv2.MORPH_RECT, (4, 4))\n",
    "kernel2 = cv2.getStructuringElement(cv2.MORPH_RECT, (5, 5))"
   ]
  },
  {
   "cell_type": "markdown",
   "id": "672fb495",
   "metadata": {},
   "source": [
    "PIXCEL EROSIONS\n",
    "KEEP PIXCEL > 0"
   ]
  },
  {
   "cell_type": "code",
   "execution_count": 5,
   "id": "efbc2206",
   "metadata": {},
   "outputs": [
    {
     "data": {
      "text/plain": [
       "array([[252, 252, 252, ..., 254, 254, 254],\n",
       "       [252, 252, 252, ..., 254, 254, 254],\n",
       "       [243, 243, 243, ..., 254, 254, 254],\n",
       "       ...,\n",
       "       [226, 224, 220, ..., 237, 237, 237],\n",
       "       [226, 224, 220, ..., 240, 240, 240],\n",
       "       [226, 226, 223, ..., 240, 240, 240]], dtype=uint8)"
      ]
     },
     "execution_count": 5,
     "metadata": {},
     "output_type": "execute_result"
    }
   ],
   "source": [
    "eroded1 = cv2.erode(gray.copy(), kernel1, iterations = 1)\n",
    "cv2.imwrite('erode1.jpg', eroded1)\n",
    "\n",
    "eroded2 = cv2.erode(gray.copy(), kernel1, iterations = 2)\n",
    "cv2.imwrite('erode1.jpg', eroded1)\n",
    "\n",
    "eroded3 = cv2.erode(gray.copy(), kernel1, iterations = 3)\n",
    "cv2.imwrite('erode1.jpg', eroded1)\n",
    "\n",
    "eroded1\n",
    "eroded2\n",
    "eroded3"
   ]
  },
  {
   "cell_type": "markdown",
   "id": "f86cb8b3",
   "metadata": {},
   "source": [
    "DIALATION [OPPOSITVE TO EROSION]"
   ]
  },
  {
   "cell_type": "code",
   "execution_count": 6,
   "id": "86bc29a2",
   "metadata": {},
   "outputs": [
    {
     "data": {
      "text/plain": [
       "True"
      ]
     },
     "execution_count": 6,
     "metadata": {},
     "output_type": "execute_result"
    }
   ],
   "source": [
    "dilated1 = cv2.dilate(gray.copy(), kernel1, iterations=1)\n",
    "cv2.imwrite('dilate1.jpg', dilated1)\n",
    "\n",
    "dilated3 = cv2.dilate(gray.copy(), kernel1, iterations=3)\n",
    "cv2.imwrite('dilate3.jpg', dilated3)"
   ]
  },
  {
   "cell_type": "markdown",
   "id": "d25f028e",
   "metadata": {},
   "source": [
    "OPENING OPERATION: REMOVE NOISE FROM IMAGE"
   ]
  },
  {
   "cell_type": "code",
   "execution_count": 7,
   "id": "8e6d0807",
   "metadata": {},
   "outputs": [
    {
     "data": {
      "text/plain": [
       "True"
      ]
     },
     "execution_count": 7,
     "metadata": {},
     "output_type": "execute_result"
    }
   ],
   "source": [
    "opening1 = cv2.morphologyEx(gray, cv2.MORPH_OPEN, kernel1)\n",
    "cv2.imwrite('open1.jpg', opening1)\n",
    "\n",
    "opening1 = cv2.morphologyEx(gray, cv2.MORPH_OPEN, kernel2)\n",
    "cv2.imwrite('open1.jpg', opening1)"
   ]
  },
  {
   "cell_type": "markdown",
   "id": "eac807d2",
   "metadata": {},
   "source": [
    "CLOSING OPERATION"
   ]
  },
  {
   "cell_type": "code",
   "execution_count": 8,
   "id": "64056d17",
   "metadata": {},
   "outputs": [
    {
     "data": {
      "text/plain": [
       "True"
      ]
     },
     "execution_count": 8,
     "metadata": {},
     "output_type": "execute_result"
    }
   ],
   "source": [
    "closing1 = cv2.morphologyEx(gray.copy(), cv2.MORPH_CLOSE, kernel1, iterations=1)\n",
    "cv2.imwrite('close1.jpg', closing1)\n",
    "\n",
    "closing3 = cv2.morphologyEx(gray.copy(), cv2.MORPH_CLOSE, (3, 3), iterations=3)\n",
    "cv2.imwrite('close3.jpg', closing3)"
   ]
  },
  {
   "cell_type": "markdown",
   "id": "7fa6b5c2",
   "metadata": {},
   "source": [
    "MORPHOLOGICAL GRADIENT"
   ]
  },
  {
   "cell_type": "code",
   "execution_count": 9,
   "id": "8a08aed5",
   "metadata": {},
   "outputs": [
    {
     "data": {
      "text/plain": [
       "True"
      ]
     },
     "execution_count": 9,
     "metadata": {},
     "output_type": "execute_result"
    }
   ],
   "source": [
    "grad1 = cv2.morphologyEx(gray.copy(), cv2.MORPH_GRADIENT, kernel1)\n",
    "cv2.imwrite('grad1.jpg', grad1)\n",
    "\n",
    "grad2 = cv2.morphologyEx(gray.copy(), cv2.MORPH_GRADIENT, kernel2)\n",
    "cv2.imwrite('grad3.jpg', grad2)"
   ]
  },
  {
   "cell_type": "markdown",
   "id": "5ef2821c",
   "metadata": {},
   "source": [
    "TOPHAT WHITE: IDENTIFICAITON OF BRIGHT REGION FROM BACKGROUND"
   ]
  },
  {
   "cell_type": "code",
   "execution_count": 10,
   "id": "6732074a",
   "metadata": {},
   "outputs": [],
   "source": [
    "image = cv2.imread('/Users/rmahla_admin/Desktop/GOD2_RSM/input/photo.jpeg')\n",
    "gray = cv2.cvtColor(image, cv2.COLOR_BGR2GRAY)\n",
    "\n",
    "kernel1 = cv2.getStructuringElement(cv2.MORPH_RECT, (23, 5))\n",
    "\n",
    "kernel2 = cv2.getStructuringElement(cv2.MORPH_RECT, (35, 8))"
   ]
  },
  {
   "cell_type": "code",
   "execution_count": 11,
   "id": "e5847534",
   "metadata": {},
   "outputs": [
    {
     "data": {
      "text/plain": [
       "True"
      ]
     },
     "execution_count": 11,
     "metadata": {},
     "output_type": "execute_result"
    }
   ],
   "source": [
    "tophat1 = cv2.morphologyEx(gray.copy(), cv2.MORPH_TOPHAT, kernel1)\n",
    "cv2.imwrite('tophat1.jpg', tophat1)"
   ]
  },
  {
   "cell_type": "markdown",
   "id": "6c3736ba",
   "metadata": {},
   "source": [
    "BLACKHAT OPERATION"
   ]
  },
  {
   "cell_type": "code",
   "execution_count": 12,
   "id": "6a2b5d03",
   "metadata": {},
   "outputs": [
    {
     "data": {
      "text/plain": [
       "True"
      ]
     },
     "execution_count": 12,
     "metadata": {},
     "output_type": "execute_result"
    }
   ],
   "source": [
    "blackhat1 = cv2.morphologyEx(gray.copy(), cv2.MORPH_BLACKHAT, kernel1)\n",
    "cv2.imwrite('blackhat1.jpg', blackhat1)"
   ]
  }
 ],
 "metadata": {
  "kernelspec": {
   "display_name": "Python 3 (ipykernel)",
   "language": "python",
   "name": "python3"
  },
  "language_info": {
   "codemirror_mode": {
    "name": "ipython",
    "version": 3
   },
   "file_extension": ".py",
   "mimetype": "text/x-python",
   "name": "python",
   "nbconvert_exporter": "python",
   "pygments_lexer": "ipython3",
   "version": "3.9.2"
  }
 },
 "nbformat": 4,
 "nbformat_minor": 5
}
